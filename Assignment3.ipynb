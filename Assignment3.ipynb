{
  "cells": [
    {
      "cell_type": "markdown",
      "metadata": {
        "id": "95RpYg7QgFYa"
      },
      "source": [
        "#\n",
        "###Herman Olvik & Cornelia Swartling"
      ]
    },
    {
      "cell_type": "markdown",
      "metadata": {
        "id": "Nm695PHnYUD4"
      },
      "source": [
        "##Data Initialization\n",
        "To work with the small dataset, run only \"Initialize the small dataset\" below. If you want to work with the large dataset, run \"Initialize the large dataset + consensus analysis\" instead. All of the code is implemented to run properly with the dataset of your choice. Under \"Other Models Evaluated\", instructions relevant to the code below that section is presented."
      ]
    },
    {
      "cell_type": "markdown",
      "metadata": {
        "id": "YvQYA9rhV0Qe"
      },
      "source": [
        "###Initialize the small dataset"
      ]
    },
    {
      "cell_type": "code",
      "execution_count": 2,
      "metadata": {
        "colab": {
          "base_uri": "https://localhost:8080/"
        },
        "id": "2eE-RA9BVylM",
        "outputId": "02ab5c64-1f74-4466-9ed4-b9dad75af2b2"
      },
      "outputs": [],
      "source": [
        "import pandas as pd\n",
        "from sklearn.model_selection import train_test_split\n",
        "import string\n",
        "\n",
        "# Loading the data\n",
        "file_path = 'a3_train_final.tsv'\n",
        "data = pd.read_csv(file_path, sep='\\t', header=None)\n",
        "\n",
        "# Function to remove punctuation\n",
        "def remove_punctuation(text):\n",
        "    return text.translate(str.maketrans('', '', string.punctuation))\n",
        "\n",
        "# Convert to lowercase and remove punctuation\n",
        "data[1] = data[1].str.lower().apply(remove_punctuation)\n",
        "\n",
        "# Separate the dataset into features (X) and target (y)\n",
        "X = data[1]\n",
        "y = data[0]\n",
        "\n",
        "# Split the dataset into training and testing sets\n",
        "X_train, X_test, y_train, y_test = train_test_split(X, y, test_size=0.2, random_state=42)"
      ]
    },
    {
      "cell_type": "markdown",
      "metadata": {
        "id": "0Q00K8JfV58e"
      },
      "source": [
        "###Initialize the large dataset + consensus analysis"
      ]
    },
    {
      "cell_type": "code",
      "execution_count": 4,
      "metadata": {
        "colab": {
          "base_uri": "https://localhost:8080/",
          "height": 552
        },
        "id": "twXmYd0PV-gQ",
        "outputId": "d495ccfa-6e82-4f3b-ca25-21f948d3a6d0"
      },
      "outputs": [
        {
          "name": "stdout",
          "output_type": "stream",
          "text": [
            "Average Consensus Score for Training Dataset: 0.9965764239375873\n",
            "Average Consensus Score for Testing Dataset: 1.0\n"
          ]
        },
        {
          "data": {
            "image/png": "[encoded data removed]",
            "text/plain": [
              "<Figure size 500x500 with 1 Axes>"
            ]
          },
          "metadata": {},
          "output_type": "display_data"
        }
      ],
      "source": [
        "import pandas as pd\n",
        "import string\n",
        "\n",
        "def remove_punctuation(text):\n",
        "    \"\"\"Remove punctuation from a given string.\"\"\"\n",
        "    return text.translate(str.maketrans('', '', string.punctuation))\n",
        "\n",
        "def preprocess_votes(row):\n",
        "    \"\"\"Preprocess votes to classify comments based on voting.\"\"\"\n",
        "    # Ensure the row is treated as a string\n",
        "    row_str = str(row)\n",
        "    votes = list(map(int, row_str.split('/')))\n",
        "    pro_votes = votes.count(1)\n",
        "    anti_votes = votes.count(0)\n",
        "    neither_votes = votes.count(-1)\n",
        "\n",
        "    if pro_votes == anti_votes or (pro_votes == neither_votes and pro_votes != 0) or (anti_votes == neither_votes and anti_votes != 0):\n",
        "        return None  # Dismiss comments with tied votes or no clear majority\n",
        "\n",
        "    if pro_votes > max(anti_votes, neither_votes):\n",
        "        return 'pro'\n",
        "    elif anti_votes > max(pro_votes, neither_votes):\n",
        "        return 'anti'\n",
        "    else:\n",
        "        return None  # Dismiss comments where no majority is clear\n",
        "\n",
        "# Loading the training and testing data\n",
        "train_file_path = 'a3_train_final.tsv'\n",
        "test_file_path = 'a3_test.tsv'\n",
        "\n",
        "train_data = pd.read_csv(train_file_path, sep='\\t', header=None)\n",
        "test_data = pd.read_csv(test_file_path, sep='\\t', header=None)\n",
        "\n",
        "# Preprocess labels\n",
        "train_data['processed_label'] = train_data[0].apply(preprocess_votes)\n",
        "test_data['processed_label'] = test_data[0].apply(preprocess_votes)\n",
        "\n",
        "# Convert to lowercase and remove punctuation from text data\n",
        "train_data[1] = train_data[1].str.lower().apply(remove_punctuation)\n",
        "test_data[1] = test_data[1].str.lower().apply(remove_punctuation)\n",
        "\n",
        "# Remove dismissed comments\n",
        "train_data.dropna(subset=['processed_label'], inplace=True)\n",
        "test_data.dropna(subset=['processed_label'], inplace=True)\n",
        "\n",
        "# Separate the dataset into features (X) and target (y) for both training and testing sets\n",
        "X_train = train_data[1]\n",
        "y_train = train_data['processed_label']\n",
        "X_test = test_data[1]\n",
        "y_test = test_data['processed_label']\n",
        "\n",
        "\n",
        "''' Consensus analysis '''\n",
        "\n",
        "def calculate_consensus_proportion(row):\n",
        "    row_str = str(row)\n",
        "    votes = list(map(int, row_str.split('/')))\n",
        "    if not votes:\n",
        "        return 0  # Handle empty votes\n",
        "\n",
        "    pro_votes = votes.count(1)\n",
        "    anti_votes = votes.count(0)\n",
        "    neither_votes = votes.count(-1)\n",
        "    total_votes = len(votes)\n",
        "\n",
        "    majority_votes = max(pro_votes, anti_votes, neither_votes)\n",
        "    if total_votes == 0:  # Prevent division by zero\n",
        "        return 0\n",
        "    consensus_proportion = majority_votes / total_votes\n",
        "    return consensus_proportion\n",
        "\n",
        "# Apply the function to each row and calculate the average consensus score\n",
        "train_consensus_scores = train_data[0].apply(calculate_consensus_proportion)\n",
        "test_consensus_scores = test_data[0].apply(calculate_consensus_proportion)\n",
        "\n",
        "average_consensus_train = train_consensus_scores.mean()\n",
        "average_consensus_test = test_consensus_scores.mean()\n",
        "\n",
        "print(\"Average Consensus Score for Training Dataset:\", average_consensus_train)\n",
        "print(\"Average Consensus Score for Testing Dataset:\", average_consensus_test)\n",
        "\n",
        "import matplotlib.pyplot as plt\n",
        "\n",
        "# Assuming calculate_consensus_proportion is already defined as before\n",
        "\n",
        "# Apply the function to each row to calculate consensus scores\n",
        "train_consensus_scores = train_data[0].apply(calculate_consensus_proportion)\n",
        "test_consensus_scores = test_data[0].apply(calculate_consensus_proportion)\n",
        "\n",
        "# Plotting\n",
        "fig, ax = plt.subplots(figsize=(5, 5))\n",
        "\n",
        "# Training dataset consensus distribution\n",
        "ax.hist(train_consensus_scores.dropna(), bins=20, color='blue', alpha=0.7)\n",
        "ax.set_title('Training Data')\n",
        "ax.set_xlabel('Consensus Score')\n",
        "ax.set_ylabel('Frequency')\n",
        "\n",
        "plt.suptitle('Consensus Analysis')\n",
        "plt.tight_layout(rect=[0, 0.03, 1, 0.95])\n",
        "plt.show()"
      ]
    },
    {
      "cell_type": "markdown",
      "metadata": {
        "id": "UrWqR9RYYeBs"
      },
      "source": [
        "##Logistic Regression - Tuning and Evaluation"
      ]
    },
    {
      "cell_type": "markdown",
      "metadata": {
        "id": "qz3urEEhEJZf"
      },
      "source": [
        "###TfidfVectorizer + LogisticRegression, Including Feature Importances and Confusion Matrix\n",
        "\n"
      ]
    },
    {
      "cell_type": "code",
      "execution_count": 5,
      "metadata": {
        "colab": {
          "base_uri": "https://localhost:8080/",
          "height": 837
        },
        "id": "SRR0n6t6COHj",
        "outputId": "171f9c54-cc11-47f9-cb3a-6d44966919b0"
      },
      "outputs": [
        {
          "name": "stdout",
          "output_type": "stream",
          "text": [
            "0.8921039725355566\n",
            "              precision    recall  f1-score   support\n",
            "\n",
            "        anti       0.89      0.90      0.89      1020\n",
            "         pro       0.90      0.89      0.89      1019\n",
            "\n",
            "    accuracy                           0.89      2039\n",
            "   macro avg       0.89      0.89      0.89      2039\n",
            "weighted avg       0.89      0.89      0.89      2039\n",
            "\n",
            "antivaxxers: 16.90530573911103\n",
            "never: -11.762921529919959\n",
            "poison: -10.859831762711918\n",
            "no side: 9.853772167838509\n",
            "get: 9.426815779407631\n",
            "forced: -8.874936291628096\n",
            "antivaxers: 8.752909708928474\n",
            "experimental: -8.511786691590801\n",
            "antivaxx: 8.429187523435006\n",
            "anti vaxxers: 8.089538901887877\n"
          ]
        },
        {
          "data": {
            "image/png": "[encoded data removed]",
            "text/plain": [
              "<Figure size 640x480 with 2 Axes>"
            ]
          },
          "metadata": {},
          "output_type": "display_data"
        }
      ],
      "source": [
        "from sklearn.feature_extraction.text import TfidfVectorizer\n",
        "from sklearn.linear_model import LogisticRegression\n",
        "from sklearn.pipeline import Pipeline\n",
        "from sklearn.metrics import accuracy_score, classification_report\n",
        "from sklearn.metrics import confusion_matrix\n",
        "import seaborn as sns\n",
        "import matplotlib.pyplot as plt\n",
        "\n",
        "\n",
        "# These are the optimal parameters based on GridSearchCV\n",
        "pipeline = Pipeline([\n",
        "    ('tfidf', TfidfVectorizer(ngram_range=(1, 2),\n",
        "                              max_df=0.75,\n",
        "                              max_features=None,\n",
        "                              min_df=2)),\n",
        "    ('classifier', LogisticRegression(C=10, solver='liblinear', random_state=42))\n",
        "])\n",
        "\n",
        "# Train the model\n",
        "pipeline.fit(X_train, y_train)\n",
        "\n",
        "# Predict on the test set\n",
        "y_pred = pipeline.predict(X_test)\n",
        "\n",
        "# Evaluate the model\n",
        "accuracy = accuracy_score(y_test, y_pred)\n",
        "report = classification_report(y_test, y_pred)\n",
        "\n",
        "print(accuracy)\n",
        "print(report)\n",
        "\n",
        "\n",
        "''' Feature analysis '''\n",
        "\n",
        "# Access the classifier and vectorizer from the pipeline\n",
        "classifier = pipeline.named_steps['classifier']\n",
        "vectorizer = pipeline.named_steps['tfidf']\n",
        "\n",
        "# Get the feature names from the vectorizer\n",
        "feature_names = vectorizer.get_feature_names_out()\n",
        "\n",
        "# Get the coefficients from the classifier\n",
        "coefficients = classifier.coef_[0]\n",
        "\n",
        "# Pair up feature names with their coefficients\n",
        "feature_importance = zip(feature_names, coefficients)\n",
        "\n",
        "# Sort features by their absolute values of coefficients, in descending order\n",
        "important_features = sorted(feature_importance, key=lambda x: abs(x[1]), reverse=True)\n",
        "\n",
        "# Print the top N most important features\n",
        "for feature, coef in important_features[:10]:\n",
        "    print(f\"{feature}: {coef}\")\n",
        "\n",
        "\n",
        "''' Confusion matrix '''\n",
        "\n",
        "# Generate the confusion matrix\n",
        "cm = confusion_matrix(y_test, y_pred)\n",
        "\n",
        "# Plotting the confusion matrix with heatmap\n",
        "sns.heatmap(cm, annot=True, fmt=\"d\", cmap=\"Blues\", xticklabels=[\"Predicted Negative\", \"Predicted Positive\"], yticklabels=[\"Actual Negative\", \"Actual Positive\"])\n",
        "plt.ylabel('Actual')\n",
        "plt.xlabel('Predicted')\n",
        "plt.title('Confusion Matrix')\n",
        "plt.show()\n"
      ]
    },
    {
      "cell_type": "markdown",
      "metadata": {
        "id": "oHztVcA8bizc"
      },
      "source": [
        "###TfidfVectorizer + LogisticRegression Parameter Tuning"
      ]
    },
    {
      "cell_type": "code",
      "execution_count": 6,
      "metadata": {
        "colab": {
          "base_uri": "https://localhost:8080/"
        },
        "id": "0sBiy7ypbiCV",
        "outputId": "87a368b5-14f8-4c90-f23a-7e92f7bb605a"
      },
      "outputs": [
        {
          "name": "stdout",
          "output_type": "stream",
          "text": [
            "Fitting 5 folds for each of 378 candidates, totalling 1890 fits\n",
            "Best Parameters Set Found On Development Set:\n",
            "{'classifier__C': 10, 'classifier__solver': 'saga', 'tfidf__max_df': 0.75, 'tfidf__max_features': None, 'tfidf__min_df': 1}\n",
            "Best Model Accuracy:  0.8921039725355566\n",
            "Classification Report: \n",
            "               precision    recall  f1-score   support\n",
            "\n",
            "        anti       0.89      0.89      0.89      1020\n",
            "         pro       0.89      0.89      0.89      1019\n",
            "\n",
            "    accuracy                           0.89      2039\n",
            "   macro avg       0.89      0.89      0.89      2039\n",
            "weighted avg       0.89      0.89      0.89      2039\n",
            "\n"
          ]
        }
      ],
      "source": [
        "from sklearn.feature_extraction.text import TfidfVectorizer\n",
        "from sklearn.linear_model import LogisticRegression\n",
        "from sklearn.pipeline import Pipeline\n",
        "from sklearn.model_selection import GridSearchCV\n",
        "from sklearn.metrics import accuracy_score, classification_report\n",
        "from sklearn.metrics import confusion_matrix\n",
        "import matplotlib.pyplot as plt\n",
        "\n",
        "pipeline = Pipeline([\n",
        "    ('tfidf', TfidfVectorizer(ngram_range=(1, 2))),\n",
        "    ('classifier', LogisticRegression(random_state=42))\n",
        "])\n",
        "\n",
        "# Parameters grid for GridSearchCV\n",
        "param_grid = {\n",
        "    'tfidf__max_df': [0.5, 0.75, 1.0],\n",
        "    'tfidf__min_df': [1, 2, 3],\n",
        "    'tfidf__max_features': [None, 5000, 10000],\n",
        "    'classifier__C': [0.01, 0.1, 1, 10, 100, 200, 500],\n",
        "    'classifier__solver': ['liblinear', 'saga']\n",
        "}\n",
        "\n",
        "# Grid search with cross-validation\n",
        "grid_search = GridSearchCV(pipeline, param_grid, cv=5, n_jobs=-1, verbose=2)\n",
        "grid_search.fit(X_train, y_train)\n",
        "\n",
        "# Output the best set of parameters\n",
        "print(\"Best Parameters Set Found On Development Set:\")\n",
        "print(grid_search.best_params_)\n",
        "\n",
        "# Best model after grid search\n",
        "best_model = grid_search.best_estimator_\n",
        "\n",
        "# Predict on the test set with the best model\n",
        "y_pred = best_model.predict(X_test)\n",
        "\n",
        "# Evaluate the best model\n",
        "accuracy = accuracy_score(y_test, y_pred)\n",
        "report = classification_report(y_test, y_pred)\n",
        "\n",
        "print(\"Best Model Accuracy: \", accuracy)\n",
        "print(\"Classification Report: \\n\", report)"
      ]
    },
    {
      "cell_type": "markdown",
      "metadata": {
        "id": "yvtfftlOYrY3"
      },
      "source": [
        "##Support Vector Classifier - Tuning and Evaluation"
      ]
    },
    {
      "cell_type": "markdown",
      "metadata": {
        "id": "u3Ui6HbhOqNh"
      },
      "source": [
        "###TfidfVectorizer + SVC, Including Confusion Matrix"
      ]
    },
    {
      "cell_type": "code",
      "execution_count": 7,
      "metadata": {
        "colab": {
          "base_uri": "https://localhost:8080/",
          "height": 592
        },
        "id": "iDxHB9ecOral",
        "outputId": "7319d4b2-82fd-4c90-e3c3-d1d483387683"
      },
      "outputs": [
        {
          "name": "stdout",
          "output_type": "stream",
          "text": [
            "0.8965179009318294\n",
            "              precision    recall  f1-score   support\n",
            "\n",
            "        anti       0.89      0.90      0.90      1020\n",
            "         pro       0.90      0.89      0.90      1019\n",
            "\n",
            "    accuracy                           0.90      2039\n",
            "   macro avg       0.90      0.90      0.90      2039\n",
            "weighted avg       0.90      0.90      0.90      2039\n",
            "\n"
          ]
        },
        {
          "data": {
            "image/png": "[encoded data removed]",
            "text/plain": [
              "<Figure size 500x400 with 2 Axes>"
            ]
          },
          "metadata": {},
          "output_type": "display_data"
        }
      ],
      "source": [
        "from sklearn.feature_extraction.text import TfidfVectorizer\n",
        "from sklearn.linear_model import LogisticRegression\n",
        "from sklearn.pipeline import Pipeline\n",
        "from sklearn.metrics import accuracy_score, classification_report\n",
        "from sklearn.metrics import confusion_matrix\n",
        "from sklearn.metrics import confusion_matrix\n",
        "import seaborn as sns\n",
        "import matplotlib.pyplot as plt\n",
        "from sklearn.svm import SVC\n",
        "\n",
        "# Create a pipeline with TF-IDF Vectorizer and SVC classifier\n",
        "pipeline = Pipeline([\n",
        "    ('tfidf', TfidfVectorizer(ngram_range=(1, 2),\n",
        "                              max_df=0.75,\n",
        "                              max_features=None,\n",
        "                              min_df=3)),\n",
        "    ('classifier', SVC(C=10, gamma=1, kernel='rbf', random_state=42))\n",
        "])\n",
        "\n",
        "# Train the model\n",
        "pipeline.fit(X_train, y_train)\n",
        "\n",
        "# Predict on the test set\n",
        "y_pred = pipeline.predict(X_test)\n",
        "\n",
        "# Evaluate the model\n",
        "accuracy = accuracy_score(y_test, y_pred)\n",
        "report = classification_report(y_test, y_pred)\n",
        "\n",
        "print(accuracy)\n",
        "print(report)\n",
        "\n",
        "\n",
        "''' Confusion matrix '''\n",
        "\n",
        "# Generate the confusion matrix\n",
        "cm = confusion_matrix(y_test, y_pred)\n",
        "\n",
        "# Plotting the confusion matrix\n",
        "plt.figure(figsize=(5, 4))  # Set the figure size for better readability\n",
        "sns.heatmap(cm, annot=True, fmt='d', cmap='Blues', xticklabels=True, yticklabels=True)\n",
        "plt.title('Confusion Matrix')\n",
        "plt.xlabel('Predicted Labels')\n",
        "plt.ylabel('True Labels')\n",
        "plt.show()"
      ]
    },
    {
      "cell_type": "markdown",
      "metadata": {
        "id": "OzW0YJ1YbucF"
      },
      "source": [
        "###TfidfVectorizer + SVC Parameter Tuning"
      ]
    },
    {
      "cell_type": "code",
      "execution_count": null,
      "metadata": {
        "colab": {
          "base_uri": "https://localhost:8080/"
        },
        "id": "EgUwsL6Nbtmp",
        "outputId": "1ca60543-23b8-4f64-b3bf-559a465f4324"
      },
      "outputs": [],
      "source": [
        "from sklearn.feature_extraction.text import TfidfVectorizer\n",
        "from sklearn.linear_model import LogisticRegression\n",
        "from sklearn.pipeline import Pipeline\n",
        "from sklearn.metrics import accuracy_score, classification_report\n",
        "from sklearn.metrics import confusion_matrix\n",
        "import matplotlib.pyplot as plt\n",
        "from sklearn.model_selection import GridSearchCV\n",
        "\n",
        "\n",
        "pipeline = Pipeline([\n",
        "    ('tfidf', TfidfVectorizer(ngram_range=(1, 2))),\n",
        "    ('classifier', SVC(random_state=42))\n",
        "])\n",
        "\n",
        "# Parameters grid for GridSearchCV\n",
        "param_grid = {\n",
        "    'tfidf__max_df': [0.5, 0.75, 1.0],\n",
        "    'tfidf__min_df': [1, 2, 3],\n",
        "    'tfidf__max_features': [None, 5000, 10000],\n",
        "    'classifier__C': [0.01, 0.1, 1, 10, 100, 200, 500],\n",
        "    'classifier__kernel': ['linear', 'rbf']\n",
        "}\n",
        "\n",
        "# Grid search with cross-validation\n",
        "grid_search = GridSearchCV(pipeline, param_grid, cv=5, n_jobs=-1, verbose=2)\n",
        "grid_search.fit(X_train, y_train)\n",
        "\n",
        "# Output the best set of parameters\n",
        "print(\"Best Parameters Set Found On Development Set:\")\n",
        "print(grid_search.best_params_)\n",
        "\n",
        "# Best model after grid search\n",
        "best_model = grid_search.best_estimator_\n",
        "\n",
        "# Predict on the test set with the best model\n",
        "y_pred = best_model.predict(X_test)\n",
        "\n",
        "# Evaluate the best model\n",
        "accuracy = accuracy_score(y_test, y_pred)\n",
        "report = classification_report(y_test, y_pred)\n",
        "\n",
        "print(\"Best Model Accuracy: \", accuracy)\n",
        "print(\"Classification Report: \\n\", report)"
      ]
    },
    {
      "cell_type": "markdown",
      "metadata": {
        "id": "Vn2sWxjoBTIT"
      },
      "source": [
        "##A Trivial Baseline Comparison"
      ]
    },
    {
      "cell_type": "code",
      "execution_count": 27,
      "metadata": {
        "colab": {
          "base_uri": "https://localhost:8080/"
        },
        "id": "DAF2Z2ZNBRvT",
        "outputId": "49038ec3-bd30-424a-fd35-70edcc2fbdc0"
      },
      "outputs": [
        {
          "name": "stdout",
          "output_type": "stream",
          "text": [
            "Baseline Classifier Performance:\n",
            "              precision    recall  f1-score   support\n",
            "\n",
            "           0       0.48      1.00      0.65        93\n",
            "           1       0.00      0.00      0.00       102\n",
            "\n",
            "    accuracy                           0.48       195\n",
            "   macro avg       0.24      0.50      0.32       195\n",
            "weighted avg       0.23      0.48      0.31       195\n",
            "\n"
          ]
        },
        {
          "name": "stderr",
          "output_type": "stream",
          "text": [
            "/usr/local/lib/python3.10/dist-packages/sklearn/metrics/_classification.py:1344: UndefinedMetricWarning: Precision and F-score are ill-defined and being set to 0.0 in labels with no predicted samples. Use `zero_division` parameter to control this behavior.\n",
            "  _warn_prf(average, modifier, msg_start, len(result))\n",
            "/usr/local/lib/python3.10/dist-packages/sklearn/metrics/_classification.py:1344: UndefinedMetricWarning: Precision and F-score are ill-defined and being set to 0.0 in labels with no predicted samples. Use `zero_division` parameter to control this behavior.\n",
            "  _warn_prf(average, modifier, msg_start, len(result))\n",
            "/usr/local/lib/python3.10/dist-packages/sklearn/metrics/_classification.py:1344: UndefinedMetricWarning: Precision and F-score are ill-defined and being set to 0.0 in labels with no predicted samples. Use `zero_division` parameter to control this behavior.\n",
            "  _warn_prf(average, modifier, msg_start, len(result))\n"
          ]
        }
      ],
      "source": [
        "from sklearn.feature_extraction.text import CountVectorizer\n",
        "from sklearn.dummy import DummyClassifier\n",
        "from sklearn.pipeline import make_pipeline\n",
        "\n",
        "\n",
        "# Create a pipeline with CountVectorizer and DummyClassifier\n",
        "pipeline = make_pipeline(\n",
        "    CountVectorizer(),  # Convert text data into numerical feature vectors\n",
        "    DummyClassifier(strategy='most_frequent')  # Trivial baseline classifier\n",
        ")\n",
        "\n",
        "# Train the model\n",
        "pipeline.fit(X_train, y_train)\n",
        "\n",
        "# Predict on the test set\n",
        "y_pred = pipeline.predict(X_test)\n",
        "\n",
        "# Evaluate the model\n",
        "print(\"Baseline Classifier Performance:\")\n",
        "print(classification_report(y_test, y_pred))"
      ]
    },
    {
      "cell_type": "markdown",
      "metadata": {
        "id": "oW0037fmZFbM"
      },
      "source": [
        "##Other Models Evaluated"
      ]
    },
    {
      "cell_type": "markdown",
      "metadata": {
        "id": "lNhUPEaod2g5"
      },
      "source": [
        "###Data Initialization\n",
        "Run this before running the cells below, to see which hyperparameters are the best for the various models. The small dataset is a better option when running the finding the optimal hyperparameters, since the large dataset is too time-consuming. Run this also before running the last cell, since those hyperparameters has already been set to the optimal ones."
      ]
    },
    {
      "cell_type": "code",
      "execution_count": 28,
      "metadata": {
        "id": "gYI_-Co3m552"
      },
      "outputs": [],
      "source": [
        "# Initialize TF-IDF vectorizer\n",
        "tfidf_vectorizer = TfidfVectorizer()\n",
        "\n",
        "# Fit and transform the training data\n",
        "X_train = tfidf_vectorizer.fit_transform(X_train)\n",
        "\n",
        "# Transform test data using the same vectorizer\n",
        "X_test = tfidf_vectorizer.transform(X_test)"
      ]
    },
    {
      "cell_type": "markdown",
      "metadata": {
        "id": "_XzmPBBSdqwc"
      },
      "source": [
        "###Random Forest Classifier"
      ]
    },
    {
      "cell_type": "code",
      "execution_count": 29,
      "metadata": {
        "colab": {
          "base_uri": "https://localhost:8080/"
        },
        "id": "YVHf7xIgdsnN",
        "outputId": "a1c60a7b-3603-4062-d29a-f476f5e24d2c"
      },
      "outputs": [
        {
          "name": "stdout",
          "output_type": "stream",
          "text": [
            "n_estimators: 50 Max Depth: None Accuracy: 0.7435897435897436\n",
            "n_estimators: 50 Max Depth: 10 Accuracy: 0.6923076923076923\n",
            "n_estimators: 50 Max Depth: 20 Accuracy: 0.7128205128205128\n",
            "n_estimators: 100 Max Depth: None Accuracy: 0.7435897435897436\n",
            "n_estimators: 100 Max Depth: 10 Accuracy: 0.7230769230769231\n",
            "n_estimators: 100 Max Depth: 20 Accuracy: 0.7384615384615385\n",
            "n_estimators: 150 Max Depth: None Accuracy: 0.7435897435897436\n",
            "n_estimators: 150 Max Depth: 10 Accuracy: 0.7076923076923077\n",
            "n_estimators: 150 Max Depth: 20 Accuracy: 0.717948717948718\n",
            "Best Hyperparameters: {'n_estimators': 50, 'max_depth': None}\n",
            "Best Accuracy: 0.7435897435897436\n"
          ]
        }
      ],
      "source": [
        "from sklearn.ensemble import RandomForestClassifier\n",
        "\n",
        "# Define lists of hyperparameters to try\n",
        "n_estimators_values = [50, 100, 150]  # Number of trees in the forest\n",
        "max_depth_values = [None, 10, 20]  # Maximum depth of the trees\n",
        "\n",
        "# Initialize variables to store the best hyperparameters and best accuracy\n",
        "best_hyperparameters = {}\n",
        "best_accuracy = 0.0\n",
        "\n",
        "# Iterate through different hyperparameter combinations\n",
        "for n_estimators in n_estimators_values:\n",
        "    for max_depth in max_depth_values:\n",
        "        # Initialize Random Forest classifier with current hyperparameters\n",
        "        rf_classifier = RandomForestClassifier(n_estimators=n_estimators, max_depth=max_depth, random_state=42)\n",
        "\n",
        "        # Train the classifier on the training data\n",
        "        rf_classifier.fit(X_train, y_train)\n",
        "\n",
        "        # Predict on the testing data\n",
        "        predictions = rf_classifier.predict(X_test)\n",
        "\n",
        "        # Calculate accuracy\n",
        "        accuracy = accuracy_score(y_test, predictions)\n",
        "\n",
        "        # Print hyperparameters and accuracy\n",
        "        print(\"n_estimators:\", n_estimators, \"Max Depth:\", max_depth, \"Accuracy:\", accuracy)\n",
        "\n",
        "        # Check if current combination has better accuracy than the previous best\n",
        "        if accuracy > best_accuracy:\n",
        "            best_accuracy = accuracy\n",
        "            best_hyperparameters = {'n_estimators': n_estimators, 'max_depth': max_depth}\n",
        "\n",
        "# Print the best hyperparameters and accuracy\n",
        "print(\"Best Hyperparameters:\", best_hyperparameters)\n",
        "print(\"Best Accuracy:\", best_accuracy)"
      ]
    },
    {
      "cell_type": "markdown",
      "metadata": {
        "id": "GPpWvJthdt3G"
      },
      "source": [
        "###Gradient Boosting Classifier"
      ]
    },
    {
      "cell_type": "code",
      "execution_count": 15,
      "metadata": {
        "colab": {
          "base_uri": "https://localhost:8080/"
        },
        "id": "Zu5vyyDqezkx",
        "outputId": "6244d0a9-eb59-4093-f08b-96f5a9be18ff"
      },
      "outputs": [
        {
          "name": "stdout",
          "output_type": "stream",
          "text": [
            "n_estimators: 50 learning_rate: 0.01 Accuracy: 0.6051282051282051\n",
            "n_estimators: 50 learning_rate: 0.01 Accuracy: 0.6410256410256411\n",
            "n_estimators: 50 learning_rate: 0.01 Accuracy: 0.6358974358974359\n",
            "n_estimators: 50 learning_rate: 0.1 Accuracy: 0.7076923076923077\n",
            "n_estimators: 50 learning_rate: 0.1 Accuracy: 0.764102564102564\n",
            "n_estimators: 50 learning_rate: 0.1 Accuracy: 0.7282051282051282\n",
            "n_estimators: 50 learning_rate: 0.5 Accuracy: 0.7435897435897436\n",
            "n_estimators: 50 learning_rate: 0.5 Accuracy: 0.6871794871794872\n",
            "n_estimators: 50 learning_rate: 0.5 Accuracy: 0.7282051282051282\n",
            "n_estimators: 100 learning_rate: 0.01 Accuracy: 0.6615384615384615\n",
            "n_estimators: 100 learning_rate: 0.01 Accuracy: 0.6923076923076923\n",
            "n_estimators: 100 learning_rate: 0.01 Accuracy: 0.7230769230769231\n",
            "n_estimators: 100 learning_rate: 0.1 Accuracy: 0.7282051282051282\n",
            "n_estimators: 100 learning_rate: 0.1 Accuracy: 0.7538461538461538\n",
            "n_estimators: 100 learning_rate: 0.1 Accuracy: 0.7538461538461538\n",
            "n_estimators: 100 learning_rate: 0.5 Accuracy: 0.7589743589743589\n",
            "n_estimators: 100 learning_rate: 0.5 Accuracy: 0.7128205128205128\n",
            "n_estimators: 100 learning_rate: 0.5 Accuracy: 0.7333333333333333\n",
            "n_estimators: 150 learning_rate: 0.01 Accuracy: 0.6717948717948717\n",
            "n_estimators: 150 learning_rate: 0.01 Accuracy: 0.6974358974358974\n",
            "n_estimators: 150 learning_rate: 0.01 Accuracy: 0.7435897435897436\n",
            "n_estimators: 150 learning_rate: 0.1 Accuracy: 0.7435897435897436\n",
            "n_estimators: 150 learning_rate: 0.1 Accuracy: 0.7538461538461538\n",
            "n_estimators: 150 learning_rate: 0.1 Accuracy: 0.7230769230769231\n",
            "n_estimators: 150 learning_rate: 0.5 Accuracy: 0.7589743589743589\n",
            "n_estimators: 150 learning_rate: 0.5 Accuracy: 0.717948717948718\n",
            "n_estimators: 150 learning_rate: 0.5 Accuracy: 0.7333333333333333\n",
            "Best Hyperparameters: {'n_estimators': 50, 'learning_rate': 0.1, 'max_depth': 5}\n",
            "Best Accuracy: 0.764102564102564\n"
          ]
        }
      ],
      "source": [
        "from sklearn.ensemble import GradientBoostingClassifier\n",
        "\n",
        "# Define lists of hyperparameters to try\n",
        "n_estimators_values = [50, 100, 150]  # Number of boosting stages\n",
        "learning_rate_values = [0.01, 0.1, 0.5]  # Learning rate shrinks the contribution of each tree\n",
        "max_depth_values = [3, 5, 7]  # Maximum depth of the individual trees\n",
        "\n",
        "# Initialize variables to store the best hyperparameters and best accuracy\n",
        "best_hyperparameters = {}\n",
        "best_accuracy = 0.0\n",
        "\n",
        "# Iterate through different hyperparameter combinations\n",
        "for n_estimators in n_estimators_values:\n",
        "    for learning_rate in learning_rate_values:\n",
        "        for max_depth in max_depth_values:\n",
        "            # Initialize Gradient Boosting classifier with current hyperparameters\n",
        "            gb_classifier = GradientBoostingClassifier(n_estimators=n_estimators, learning_rate=learning_rate, max_depth=max_depth, random_state=42)\n",
        "\n",
        "            # Train the classifier on the training data\n",
        "            gb_classifier.fit(X_train, y_train)\n",
        "\n",
        "            # Predict on the testing data\n",
        "            predictions = gb_classifier.predict(X_test)\n",
        "\n",
        "            # Calculate accuracy\n",
        "            accuracy = accuracy_score(y_test, predictions)\n",
        "\n",
        "            # Print hyperparameters and accuracy\n",
        "            print(\"n_estimators:\", n_estimators, \"learning_rate:\", learning_rate, \"Accuracy:\", accuracy)\n",
        "\n",
        "            # Check if current combination has better accuracy than the previous best\n",
        "            if accuracy > best_accuracy:\n",
        "                best_accuracy = accuracy\n",
        "                best_hyperparameters = {'n_estimators': n_estimators, 'learning_rate': learning_rate, 'max_depth': max_depth}\n",
        "\n",
        "# Print the best hyperparameters and accuracy\n",
        "print(\"Best Hyperparameters:\", best_hyperparameters)\n",
        "print(\"Best Accuracy:\", best_accuracy)\n"
      ]
    },
    {
      "cell_type": "markdown",
      "metadata": {
        "id": "Hsf1YASdfR2S"
      },
      "source": [
        "###Neural Network Classifier"
      ]
    },
    {
      "cell_type": "code",
      "execution_count": 16,
      "metadata": {
        "colab": {
          "base_uri": "https://localhost:8080/"
        },
        "id": "bDvgluOWfVuT",
        "outputId": "398c28da-b516-40eb-8bcf-51c80ea1071a"
      },
      "outputs": [
        {
          "name": "stdout",
          "output_type": "stream",
          "text": [
            "Hidden Size: 64 Learning Rate: 0.001 Accuracy: 0.7589743589743589\n",
            "Hidden Size: 64 Learning Rate: 0.01 Accuracy: 0.7435897435897436\n",
            "Hidden Size: 64 Learning Rate: 0.1 Accuracy: 0.7692307692307693\n",
            "Hidden Size: 128 Learning Rate: 0.001 Accuracy: 0.7538461538461538\n",
            "Hidden Size: 128 Learning Rate: 0.01 Accuracy: 0.7282051282051282\n",
            "Hidden Size: 128 Learning Rate: 0.1 Accuracy: 0.7230769230769231\n",
            "Hidden Size: 256 Learning Rate: 0.001 Accuracy: 0.7435897435897436\n",
            "Hidden Size: 256 Learning Rate: 0.01 Accuracy: 0.6974358974358974\n",
            "Hidden Size: 256 Learning Rate: 0.1 Accuracy: 0.7282051282051282\n",
            "Best Hyperparameters: {'hidden_size': 64, 'learning_rate': 0.1}\n",
            "Best Accuracy: 0.7692307692307693\n"
          ]
        }
      ],
      "source": [
        "import torch\n",
        "import torch.nn as nn\n",
        "import torch.optim as optim\n",
        "from torch.utils.data import DataLoader, TensorDataset\n",
        "from sklearn.metrics import accuracy_score\n",
        "\n",
        "# Define the feedforward neural network architecture\n",
        "class FFNN(nn.Module):\n",
        "    def __init__(self, input_size, hidden_size, output_size):\n",
        "        super(FFNN, self).__init__()\n",
        "        self.fc1 = nn.Linear(input_size, hidden_size)\n",
        "        self.relu = nn.ReLU()\n",
        "        self.fc2 = nn.Linear(hidden_size, output_size)\n",
        "\n",
        "    def forward(self, x):\n",
        "        x = self.fc1(x)\n",
        "        x = self.relu(x)\n",
        "        x = self.fc2(x)\n",
        "        return x\n",
        "\n",
        "# Convert TF-IDF matrices to PyTorch tensors\n",
        "train_inputs = torch.tensor(X_train.toarray(), dtype=torch.float32)\n",
        "test_inputs = torch.tensor(X_test.toarray(), dtype=torch.float32)\n",
        "train_labels = torch.tensor(y_train.values, dtype=torch.long)\n",
        "test_labels = torch.tensor(y_test.values, dtype=torch.long)\n",
        "\n",
        "# Define hyperparameters to try\n",
        "hidden_size_values = [64, 128, 256]  # Sizes of hidden layers\n",
        "learning_rate_values = [0.001, 0.01, 0.1]  # Learning rates\n",
        "\n",
        "# Initialize variables to store the best hyperparameters and best accuracy\n",
        "best_hyperparameters = {}\n",
        "best_accuracy = 0.0\n",
        "\n",
        "# Iterate through different hyperparameter combinations\n",
        "for hidden_size in hidden_size_values:\n",
        "    for learning_rate in learning_rate_values:\n",
        "        # Instantiate the model, loss function, and optimizer with current hyperparameters\n",
        "        model = FFNN(train_inputs.shape[1], hidden_size, 2)  # Use train_inputs.shape[1] for input size\n",
        "        criterion = nn.CrossEntropyLoss()\n",
        "        optimizer = optim.Adam(model.parameters(), lr=learning_rate)\n",
        "\n",
        "        # Define batch size and create DataLoader\n",
        "        batch_size = 32\n",
        "        train_dataset = TensorDataset(train_inputs, train_labels)\n",
        "        train_loader = DataLoader(train_dataset, batch_size=batch_size, shuffle=True)\n",
        "\n",
        "        # Training the model\n",
        "        model.train()\n",
        "        for epoch in range(3):  # Adjust number of epochs as needed\n",
        "            for inputs, labels in train_loader:\n",
        "                optimizer.zero_grad()\n",
        "                outputs = model(inputs)\n",
        "                loss = criterion(outputs, labels)\n",
        "                loss.backward()\n",
        "                optimizer.step()\n",
        "\n",
        "        # Evaluate the model\n",
        "        model.eval()\n",
        "        with torch.no_grad():\n",
        "            outputs = model(test_inputs)\n",
        "            _, predicted = torch.max(outputs, 1)\n",
        "            accuracy = accuracy_score(test_labels, predicted)\n",
        "\n",
        "            # Print hyperparameters and accuracy\n",
        "            print(\"Hidden Size:\", hidden_size, \"Learning Rate:\", learning_rate, \"Accuracy:\", accuracy)\n",
        "\n",
        "            # Check if current combination has better accuracy than the previous best\n",
        "            if accuracy > best_accuracy:\n",
        "                best_accuracy = accuracy\n",
        "                best_hyperparameters = {'hidden_size': hidden_size, 'learning_rate': learning_rate}\n",
        "\n",
        "# Print the best hyperparameters and accuracy\n",
        "print(\"Best Hyperparameters:\", best_hyperparameters)\n",
        "print(\"Best Accuracy:\", best_accuracy)\n"
      ]
    },
    {
      "cell_type": "markdown",
      "metadata": {
        "id": "r84_omeJfclN"
      },
      "source": [
        "###Combining Multiple Classifiers\n",
        "Run the code under \"Data Initialization\", \"Other Models Evaluated\" before running this code cell, to vectorize the data properly."
      ]
    },
    {
      "cell_type": "code",
      "execution_count": 30,
      "metadata": {
        "colab": {
          "base_uri": "https://localhost:8080/"
        },
        "id": "cBGMKRKwfhKt",
        "outputId": "fd51499e-1b2f-4aad-9c76-7e6f5795dbc9"
      },
      "outputs": [
        {
          "name": "stdout",
          "output_type": "stream",
          "text": [
            "Voting Classifier Accuracy: 0.7692307692307693\n",
            "Stacking Classifier Accuracy: 0.7487179487179487\n"
          ]
        }
      ],
      "source": [
        "from sklearn.ensemble import VotingClassifier\n",
        "from sklearn.ensemble import RandomForestClassifier\n",
        "from sklearn.ensemble import GradientBoostingClassifier\n",
        "from sklearn.ensemble import StackingClassifier\n",
        "from sklearn.svm import SVC\n",
        "\n",
        "# Initialize base classifiers\n",
        "svc_classifier = SVC(C=10, gamma=1, kernel='rbf', probability=True)  # Set probability=True for SVC to enable soft voting\n",
        "rf_classifier = RandomForestClassifier(n_estimators=50, max_depth=None, random_state=42)\n",
        "gb_classifier = GradientBoostingClassifier(n_estimators=50, learning_rate=0.1, max_depth=5)\n",
        "\n",
        "# Define the voting classifier\n",
        "voting_classifier = VotingClassifier(estimators=[('svc', svc_classifier), ('rf', rf_classifier), ('gb', gb_classifier)], voting='soft')\n",
        "\n",
        "# Train the voting classifier\n",
        "voting_classifier.fit(X_train, y_train)\n",
        "\n",
        "# Evaluate the voting classifier\n",
        "predictions = voting_classifier.predict(X_test)\n",
        "accuracy = accuracy_score(y_test, predictions)\n",
        "print(\"Voting Classifier Accuracy:\", accuracy)\n",
        "\n",
        "# Define the stacking classifier\n",
        "stacking_classifier = StackingClassifier(estimators=[('svc', svc_classifier), ('rf', rf_classifier), ('gb', gb_classifier)], final_estimator=LogisticRegression())\n",
        "\n",
        "# Train the stacking classifier\n",
        "stacking_classifier.fit(X_train, y_train)\n",
        "\n",
        "# Evaluate the stacking classifier\n",
        "predictions = stacking_classifier.predict(X_test)\n",
        "accuracy = accuracy_score(y_test, predictions)\n",
        "print(\"Stacking Classifier Accuracy:\", accuracy)\n"
      ]
    }
  ],
  "metadata": {
    "colab": {
      "provenance": []
    },
    "kernelspec": {
      "display_name": "Python 3",
      "name": "python3"
    },
    "language_info": {
      "codemirror_mode": {
        "name": "ipython",
        "version": 3
      },
      "file_extension": ".py",
      "mimetype": "text/x-python",
      "name": "python",
      "nbconvert_exporter": "python",
      "pygments_lexer": "ipython3",
      "version": "3.12.4"
    }
  },
  "nbformat": 4,
  "nbformat_minor": 0
}
